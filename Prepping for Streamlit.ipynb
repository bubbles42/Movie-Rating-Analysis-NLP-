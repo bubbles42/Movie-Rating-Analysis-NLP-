{
 "cells": [
  {
   "cell_type": "code",
   "execution_count": 3,
   "id": "e43af9c5-2f3b-4225-b32c-b596c4ae0ffa",
   "metadata": {},
   "outputs": [],
   "source": [
    "from pprint import pprint\n",
    "import os\n",
    "import json"
   ]
  },
  {
   "cell_type": "code",
   "execution_count": 4,
   "id": "8c136893-719d-4e24-924f-bb524b204517",
   "metadata": {},
   "outputs": [],
   "source": [
    "FPATHS = {\n",
    "    \"data\": {\n",
    "        \"ml\": {\n",
    "            \"training_data\": \"data/ml_training_data.joblib\",  # [X_train, y_train] for ML model\n",
    "            \"testing_data\": \"data/ml_testing_data.joblib\",    # [X_test, y_test] for ML model\n",
    "        },\n",
    "        \"nlp\": {\n",
    "            \"train_dataset\": \"data/train_dataset\",  # Saved as TFRecord or a suitable format for TF datasets\n",
    "            \"test_dataset\": \"data/test_dataset\",    # Saved as TFRecord or a suitable format for TF datasets\n",
    "        }\n",
    "    },\n",
    "    \"models\": {\n",
    "        \"best_ml_model\": \"models/best_ml_model.joblib\",       # Best ML model (e.g., logistic regression)\n",
    "        \"label_encoder\": \"models/label_encoder.joblib\",       # Label encoder\n",
    "        \"best_nlp_model\": \"models/best_nlp_model\"            # Directory for the saved TF model\n",
    "    }\n",
    "}"
   ]
  },
  {
   "cell_type": "code",
   "execution_count": 5,
   "id": "e2ad818c-03c3-4d16-b1d2-3540be94f56f",
   "metadata": {},
   "outputs": [],
   "source": [
    "os.makedirs('config/', exist_ok=True)\n",
    "with open('config/filepaths.json', 'w') as f:\n",
    "    json.dump(FPATHS, f)"
   ]
  },
  {
   "cell_type": "code",
   "execution_count": 6,
   "id": "aba6d8d0-d582-4518-8e4a-7b49a06bb0bd",
   "metadata": {},
   "outputs": [
    {
     "name": "stdout",
     "output_type": "stream",
     "text": [
      "Directory created: models\n"
     ]
    }
   ],
   "source": [
    "def create_directories_from_paths(nested_dict):\n",
    "    for key, value in nested_dict.items():\n",
    "        if isinstance(value, dict):\n",
    "            create_directories_from_paths(value)\n",
    "        elif isinstance(value, str):\n",
    "            directory_path = os.path.dirname(value)\n",
    "            if directory_path and not os.path.exists(directory_path):\n",
    "                os.makedirs(directory_path)\n",
    "                print(f\"Directory created: {directory_path}\")\n",
    "\n",
    "create_directories_from_paths(FPATHS)"
   ]
  },
  {
   "cell_type": "code",
   "execution_count": 3,
   "id": "c79956a4-83ba-4982-b6b7-6f1fb824850b",
   "metadata": {},
   "outputs": [
    {
     "name": "stdout",
     "output_type": "stream",
     "text": [
      "GraphDef producer version: 1395\n"
     ]
    }
   ],
   "source": [
    "import tensorflow as tf\n",
    "\n",
    "model = tf.saved_model.load('models/nlp_model')\n",
    "graph_def = model.signatures['serving_default'].graph.as_graph_def()\n",
    "producer_version = graph_def.versions.producer\n",
    "\n",
    "print(\"GraphDef producer version:\", producer_version)"
   ]
  },
  {
   "cell_type": "code",
   "execution_count": null,
   "id": "f79cf8f0-5b64-4f24-b8bf-93afa6d79150",
   "metadata": {},
   "outputs": [],
   "source": []
  }
 ],
 "metadata": {
  "kernelspec": {
   "display_name": "Python (dojo-env)",
   "language": "python",
   "name": "dojo-env"
  },
  "language_info": {
   "codemirror_mode": {
    "name": "ipython",
    "version": 3
   },
   "file_extension": ".py",
   "mimetype": "text/x-python",
   "name": "python",
   "nbconvert_exporter": "python",
   "pygments_lexer": "ipython3",
   "version": "3.10.10"
  },
  "widgets": {
   "application/vnd.jupyter.widget-state+json": {
    "state": {},
    "version_major": 2,
    "version_minor": 0
   }
  }
 },
 "nbformat": 4,
 "nbformat_minor": 5
}
